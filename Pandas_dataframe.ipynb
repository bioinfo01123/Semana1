{
 "cells": [
  {
   "cell_type": "code",
   "execution_count": 9,
   "id": "f4f989a7",
   "metadata": {},
   "outputs": [],
   "source": [
    "import pandas as pd\n",
    "from pandas import DataFrame\n",
    "import matplotlib.pyplot as plt"
   ]
  },
  {
   "cell_type": "markdown",
   "id": "b67b1c8e",
   "metadata": {},
   "source": [
    "<img style=\"float:center;\" src=\"https://github.com/bioinfo01123/Semana1/blob/master/pandas.png?raw=true\" width = 80%> "
   ]
  },
  {
   "cell_type": "markdown",
   "id": "df88c2ff",
   "metadata": {},
   "source": [
    "<img style=\"float:center;\" src=\"https://raw.githubusercontent.com/bioinfo01123/taller2022/main/Clase1_dataframes_pandas.png\" width = 80%> "
   ]
  },
  {
   "cell_type": "markdown",
   "id": "f975ee3b",
   "metadata": {},
   "source": [
    "<span style=\"color:blue\"> ***¿Cómo crear un Dataframe?***</span>"
   ]
  },
  {
   "cell_type": "code",
   "execution_count": 4,
   "id": "c8104ade",
   "metadata": {},
   "outputs": [],
   "source": [
    "vacio = pd.DataFrame(data=None, index=None, columns=None)"
   ]
  },
  {
   "cell_type": "code",
   "execution_count": 5,
   "id": "cf71b82d",
   "metadata": {},
   "outputs": [
    {
     "data": {
      "text/html": [
       "<div>\n",
       "<style scoped>\n",
       "    .dataframe tbody tr th:only-of-type {\n",
       "        vertical-align: middle;\n",
       "    }\n",
       "\n",
       "    .dataframe tbody tr th {\n",
       "        vertical-align: top;\n",
       "    }\n",
       "\n",
       "    .dataframe thead th {\n",
       "        text-align: right;\n",
       "    }\n",
       "</style>\n",
       "<table border=\"1\" class=\"dataframe\">\n",
       "  <thead>\n",
       "    <tr style=\"text-align: right;\">\n",
       "      <th></th>\n",
       "    </tr>\n",
       "  </thead>\n",
       "  <tbody>\n",
       "  </tbody>\n",
       "</table>\n",
       "</div>"
      ],
      "text/plain": [
       "Empty DataFrame\n",
       "Columns: []\n",
       "Index: []"
      ]
     },
     "execution_count": 5,
     "metadata": {},
     "output_type": "execute_result"
    }
   ],
   "source": [
    "vacio"
   ]
  },
  {
   "cell_type": "code",
   "execution_count": 6,
   "id": "67b4a1e0",
   "metadata": {},
   "outputs": [],
   "source": [
    "df_p=pd.DataFrame(columns=['código','aminoácido'])"
   ]
  },
  {
   "cell_type": "code",
   "execution_count": null,
   "id": "256d8d8d",
   "metadata": {},
   "outputs": [],
   "source": [
    "df_p=df_p.append({'código':'Ala','aminoácido':'Alanina'}, ignore_index=True)\n",
    "df_p"
   ]
  },
  {
   "cell_type": "markdown",
   "id": "2d3a2d1e",
   "metadata": {},
   "source": [
    "<span style=\"color:orange\"> ***Usando listas y diccionarios***</span>"
   ]
  },
  {
   "cell_type": "code",
   "execution_count": null,
   "id": "05828dac",
   "metadata": {},
   "outputs": [],
   "source": [
    "s = ['a','b','c','d','e','f','g']\n",
    "num = [1, 2, 3, 4, 5, 6, 7]"
   ]
  },
  {
   "cell_type": "code",
   "execution_count": null,
   "id": "1b0b053d",
   "metadata": {},
   "outputs": [],
   "source": [
    "dic1 = {'s': s}"
   ]
  },
  {
   "cell_type": "code",
   "execution_count": null,
   "id": "dadd9f86",
   "metadata": {},
   "outputs": [],
   "source": [
    "dic1"
   ]
  },
  {
   "cell_type": "code",
   "execution_count": null,
   "id": "b601cea2",
   "metadata": {},
   "outputs": [],
   "source": [
    "dic2 = {'num': num}"
   ]
  },
  {
   "cell_type": "code",
   "execution_count": null,
   "id": "4cb2033c",
   "metadata": {},
   "outputs": [],
   "source": [
    "dic2"
   ]
  },
  {
   "cell_type": "code",
   "execution_count": null,
   "id": "77e05901",
   "metadata": {},
   "outputs": [],
   "source": [
    "dic3 = {'s': s, 'num': num} #objeto es la lista/valor\n",
    "dic3"
   ]
  },
  {
   "cell_type": "code",
   "execution_count": null,
   "id": "a3e32bca",
   "metadata": {},
   "outputs": [],
   "source": [
    "df = pd.DataFrame(data = dic3)"
   ]
  },
  {
   "cell_type": "code",
   "execution_count": null,
   "id": "7b97d48c",
   "metadata": {},
   "outputs": [],
   "source": [
    "df"
   ]
  },
  {
   "cell_type": "code",
   "execution_count": null,
   "id": "87d37bfa",
   "metadata": {},
   "outputs": [],
   "source": [
    "df.head(0)#Regresa los encabezados del DataFrame"
   ]
  },
  {
   "cell_type": "code",
   "execution_count": null,
   "id": "18f77727",
   "metadata": {},
   "outputs": [],
   "source": [
    "df.head() # los primeros 5 valores"
   ]
  },
  {
   "cell_type": "code",
   "execution_count": null,
   "id": "6fa691c7",
   "metadata": {},
   "outputs": [],
   "source": [
    "df.head(1)#Regrsa la primera fila de Datos del DataFrame"
   ]
  },
  {
   "cell_type": "code",
   "execution_count": null,
   "id": "7b730f30",
   "metadata": {},
   "outputs": [],
   "source": [
    "df.columns.tolist() #Hacer de los encabezados una lista"
   ]
  },
  {
   "cell_type": "code",
   "execution_count": null,
   "id": "74c9efc0",
   "metadata": {},
   "outputs": [],
   "source": [
    "df.tail(1) #Regresa la última fila de Datos del DataFrame"
   ]
  },
  {
   "cell_type": "code",
   "execution_count": null,
   "id": "8475e2ff",
   "metadata": {},
   "outputs": [],
   "source": [
    "df.tail() #Regresa los últimos 5 valores"
   ]
  },
  {
   "cell_type": "markdown",
   "id": "6a06b0a1",
   "metadata": {},
   "source": [
    "<span style=\"color:orange\"> ***Agregar índice***</span>"
   ]
  },
  {
   "cell_type": "code",
   "execution_count": null,
   "id": "8b77958a",
   "metadata": {},
   "outputs": [],
   "source": [
    "df['index'] = df.index #+ 1 #permite iniciar el índice a partir del 1\n",
    "df"
   ]
  },
  {
   "cell_type": "code",
   "execution_count": null,
   "id": "ad6cb4d3",
   "metadata": {},
   "outputs": [],
   "source": [
    "df.insert(0, 'index', df.pop('index'))\n",
    "#la funciones pop e insert permiten insertar una columna nueva y moverla a la posición en que se desea colocar"
   ]
  },
  {
   "cell_type": "code",
   "execution_count": null,
   "id": "c6db79c7",
   "metadata": {},
   "outputs": [],
   "source": [
    "df"
   ]
  },
  {
   "cell_type": "code",
   "execution_count": null,
   "id": "89063f0a",
   "metadata": {},
   "outputs": [],
   "source": [
    "del(df['index']) #La función del permite eliminar columnas \n",
    "df"
   ]
  },
  {
   "cell_type": "markdown",
   "id": "2e97ed93",
   "metadata": {},
   "source": [
    "<span style=\"color:orange\"> ***Eliminar columnas y filas***</span>"
   ]
  },
  {
   "cell_type": "code",
   "execution_count": null,
   "id": "b60fac18",
   "metadata": {},
   "outputs": [],
   "source": [
    "#existe otra función que permite eliminar columnas. \"drop\".\n",
    "#para que la modificación se realice se debe guardar en una variable \n",
    "df = df.drop(columns = ['s'])\n",
    "df"
   ]
  },
  {
   "cell_type": "code",
   "execution_count": null,
   "id": "5d8a9801",
   "metadata": {},
   "outputs": [],
   "source": [
    "df.insert(0, 's', s)"
   ]
  },
  {
   "cell_type": "code",
   "execution_count": null,
   "id": "be13ebc7",
   "metadata": {},
   "outputs": [],
   "source": [
    "df1 = df.drop(df.tail(1).index) #elimina el última fila de datos\n",
    "df1"
   ]
  },
  {
   "cell_type": "code",
   "execution_count": null,
   "id": "2cd49e46",
   "metadata": {},
   "outputs": [],
   "source": [
    "df1[df1['s'] == 'e']"
   ]
  },
  {
   "cell_type": "markdown",
   "id": "f9797211",
   "metadata": {},
   "source": [
    "<span style=\"color:orange\"> ***función \"info\"***</span>"
   ]
  },
  {
   "cell_type": "code",
   "execution_count": null,
   "id": "8836d9be",
   "metadata": {},
   "outputs": [],
   "source": [
    "df.info() # Te permite conocer el tipo de datos"
   ]
  },
  {
   "cell_type": "markdown",
   "id": "7ffa7f04",
   "metadata": {},
   "source": [
    "# Datos provenientes de un análisis de 16S\n",
    "\n",
    "____"
   ]
  },
  {
   "cell_type": "markdown",
   "id": "5eb99f86",
   "metadata": {},
   "source": [
    "<img style=\"float:center;\" src=\"https://europepmc.org/articles/PMC5482524/bin/nihms865452f1.jpg\n",
    "\" width = 80%> "
   ]
  },
  {
   "cell_type": "markdown",
   "id": "9f820a66",
   "metadata": {},
   "source": [
    "# Filtrar DataFrame"
   ]
  },
  {
   "cell_type": "code",
   "execution_count": null,
   "id": "bca83e46",
   "metadata": {},
   "outputs": [],
   "source": [
    "\n",
    "Columnas = [0, 5, 7, 8, 10, 11, 13, 14, 16, 17, 19, 20, 22, 23, 25]\n",
    "Nombres = ['Entry', 'Kingdom', 'K_Score', 'Phylum', 'P_Score', 'Class', 'C_Score',\n",
    "'Order', 'O_Score', 'Family', 'F_Score', 'Genus', 'G_Score', 'Species', 'S_Score']\n",
    "column_scores = ['K_Score', 'P_Score', 'C_Score', 'O_Score', 'F_Score', 'G_Score', 'S_Score']\n",
    "category_names = ['Kingdom', 'Phylum', 'Class', 'Order', 'Family', 'Genus', 'Species','Entry']"
   ]
  },
  {
   "cell_type": "code",
   "execution_count": null,
   "id": "2f9cedc9",
   "metadata": {},
   "outputs": [],
   "source": [
    "tax = pd.read_csv('C:/Users/Home/Downloads/ASV_vs_RDP_classif.txt', sep='\\t', header =None)"
   ]
  },
  {
   "cell_type": "code",
   "execution_count": null,
   "id": "adb6201d",
   "metadata": {},
   "outputs": [],
   "source": [
    "tax = tax[Columnas]"
   ]
  },
  {
   "cell_type": "code",
   "execution_count": null,
   "id": "3b76d67a",
   "metadata": {},
   "outputs": [],
   "source": [
    "tax.columns=Nombres"
   ]
  },
  {
   "cell_type": "code",
   "execution_count": null,
   "id": "87ac8d66",
   "metadata": {},
   "outputs": [],
   "source": [
    "tax"
   ]
  },
  {
   "cell_type": "code",
   "execution_count": null,
   "id": "509186d8",
   "metadata": {},
   "outputs": [],
   "source": [
    "tax[['Entry']]"
   ]
  },
  {
   "cell_type": "code",
   "execution_count": null,
   "id": "bf97123e",
   "metadata": {},
   "outputs": [],
   "source": [
    "df1 = tax[['Entry', 'Genus','G_Score']]#toma sólo las columnas que se indican entre comillas"
   ]
  },
  {
   "cell_type": "code",
   "execution_count": null,
   "id": "ca214d2a",
   "metadata": {},
   "outputs": [],
   "source": [
    "df1"
   ]
  },
  {
   "cell_type": "code",
   "execution_count": null,
   "id": "d5cea423",
   "metadata": {},
   "outputs": [],
   "source": [
    "df1.max()"
   ]
  },
  {
   "cell_type": "code",
   "execution_count": null,
   "id": "0c12c127",
   "metadata": {},
   "outputs": [],
   "source": [
    "df1.min()"
   ]
  },
  {
   "cell_type": "code",
   "execution_count": null,
   "id": "41113909",
   "metadata": {},
   "outputs": [],
   "source": [
    "especies = tax['S_Score'] >= 0.7 "
   ]
  },
  {
   "cell_type": "code",
   "execution_count": null,
   "id": "e66e4e79",
   "metadata": {},
   "outputs": [],
   "source": [
    "especies"
   ]
  },
  {
   "cell_type": "code",
   "execution_count": null,
   "id": "0ec9f2c4",
   "metadata": {},
   "outputs": [],
   "source": [
    "esp = tax[tax['S_Score'] >= 0.7]\n",
    "#jugar con el score"
   ]
  },
  {
   "cell_type": "code",
   "execution_count": null,
   "id": "f7f53c95",
   "metadata": {},
   "outputs": [],
   "source": [
    "esp"
   ]
  },
  {
   "cell_type": "code",
   "execution_count": null,
   "id": "95d288f1",
   "metadata": {},
   "outputs": [],
   "source": [
    "cuentas = pd.read_csv('C:/Users/Home/Downloads/ASV_counts.txt', sep='\\t')"
   ]
  },
  {
   "cell_type": "code",
   "execution_count": null,
   "id": "3f248eb5",
   "metadata": {},
   "outputs": [],
   "source": [
    "cuentas"
   ]
  },
  {
   "cell_type": "code",
   "execution_count": null,
   "id": "a083795a",
   "metadata": {},
   "outputs": [],
   "source": [
    "df2 = esp.merge(cuentas, on = 'Entry')"
   ]
  },
  {
   "cell_type": "code",
   "execution_count": null,
   "id": "770bc3eb",
   "metadata": {},
   "outputs": [],
   "source": [
    "df3 = df2.sort_values(by ='Sample_17',ascending=False).reset_index(drop=True)\n",
    "df3"
   ]
  },
  {
   "cell_type": "code",
   "execution_count": null,
   "id": "ef028914",
   "metadata": {},
   "outputs": [],
   "source": [
    "df4 = pd.pivot_table(df3, values='Sample_17', index='Species', aggfunc=sum).reset_index()"
   ]
  },
  {
   "cell_type": "code",
   "execution_count": null,
   "id": "6336e2f6",
   "metadata": {},
   "outputs": [],
   "source": [
    "df5 = df4.sort_values(by ='Sample_17',ascending=False).reset_index(drop=True)"
   ]
  },
  {
   "cell_type": "code",
   "execution_count": null,
   "id": "c40f06be",
   "metadata": {},
   "outputs": [],
   "source": [
    "top5 = df5.head(5)"
   ]
  },
  {
   "cell_type": "code",
   "execution_count": null,
   "id": "0e868db5",
   "metadata": {},
   "outputs": [],
   "source": [
    "top5"
   ]
  },
  {
   "cell_type": "code",
   "execution_count": null,
   "id": "f3250fff",
   "metadata": {},
   "outputs": [],
   "source": [
    "plt.gca().set_title(\"Especies\", fontsize=30)\n",
    "top5.Sample_17.plot.pie(label = '', cmap='Pastel1',figsize = (7,7), \n",
    "                        title =\"\", fontsize = 12,autopct='%1.2f%%', \n",
    "                        shadow = False,\n",
    "                        wedgeprops   = { 'linewidth' : 2,'edgecolor' : \"silver\" })\n",
    "circle = plt.Circle( (0,0), 0.7, color='white')\n",
    "p=plt.gcf()\n",
    "p.gca().add_artist(circle)\n",
    "plt.show()\n"
   ]
  },
  {
   "cell_type": "code",
   "execution_count": null,
   "id": "abf089c6",
   "metadata": {},
   "outputs": [],
   "source": []
  },
  {
   "cell_type": "code",
   "execution_count": null,
   "id": "22a513d1",
   "metadata": {},
   "outputs": [],
   "source": []
  },
  {
   "cell_type": "code",
   "execution_count": null,
   "id": "609734f3",
   "metadata": {},
   "outputs": [],
   "source": []
  },
  {
   "cell_type": "code",
   "execution_count": null,
   "id": "81b0eff3",
   "metadata": {},
   "outputs": [],
   "source": []
  },
  {
   "cell_type": "code",
   "execution_count": null,
   "id": "6fabf8ef",
   "metadata": {},
   "outputs": [],
   "source": []
  }
 ],
 "metadata": {
  "kernelspec": {
   "display_name": "Python 3",
   "language": "python",
   "name": "python3"
  },
  "language_info": {
   "codemirror_mode": {
    "name": "ipython",
    "version": 3
   },
   "file_extension": ".py",
   "mimetype": "text/x-python",
   "name": "python",
   "nbconvert_exporter": "python",
   "pygments_lexer": "ipython3",
   "version": "3.6.7"
  }
 },
 "nbformat": 4,
 "nbformat_minor": 5
}
